{
 "cells": [
  {
   "cell_type": "code",
   "execution_count": 98,
   "metadata": {},
   "outputs": [
    {
     "data": {
      "text/html": [
       "<table>\n",
       "<thead><tr><th scope=col>SEASON</th><th scope=col>WEEK.NUMBER</th><th scope=col>NO..OF.DEATHS</th><th scope=col>PREVIOUS.WEEK.DEATHS</th><th scope=col>CURRENT.WEEK.DEATHS</th></tr></thead>\n",
       "<tbody>\n",
       "\t<tr><td>2015-16</td><td>2015-40</td><td>0      </td><td>0      </td><td>0      </td></tr>\n",
       "\t<tr><td>2015-16</td><td>2015-41</td><td>0      </td><td>0      </td><td>0      </td></tr>\n",
       "\t<tr><td>2015-16</td><td>2015-42</td><td>0      </td><td>0      </td><td>0      </td></tr>\n",
       "\t<tr><td>2015-16</td><td>2015-43</td><td>0      </td><td>0      </td><td>0      </td></tr>\n",
       "\t<tr><td>2015-16</td><td>2015-44</td><td>2      </td><td>2      </td><td>0      </td></tr>\n",
       "\t<tr><td>2015-16</td><td>2015-45</td><td>0      </td><td>0      </td><td>0      </td></tr>\n",
       "</tbody>\n",
       "</table>\n"
      ],
      "text/latex": [
       "\\begin{tabular}{r|lllll}\n",
       " SEASON & WEEK.NUMBER & NO..OF.DEATHS & PREVIOUS.WEEK.DEATHS & CURRENT.WEEK.DEATHS\\\\\n",
       "\\hline\n",
       "\t 2015-16 & 2015-40 & 0       & 0       & 0      \\\\\n",
       "\t 2015-16 & 2015-41 & 0       & 0       & 0      \\\\\n",
       "\t 2015-16 & 2015-42 & 0       & 0       & 0      \\\\\n",
       "\t 2015-16 & 2015-43 & 0       & 0       & 0      \\\\\n",
       "\t 2015-16 & 2015-44 & 2       & 2       & 0      \\\\\n",
       "\t 2015-16 & 2015-45 & 0       & 0       & 0      \\\\\n",
       "\\end{tabular}\n"
      ],
      "text/markdown": [
       "\n",
       "SEASON | WEEK.NUMBER | NO..OF.DEATHS | PREVIOUS.WEEK.DEATHS | CURRENT.WEEK.DEATHS | \n",
       "|---|---|---|---|---|---|\n",
       "| 2015-16 | 2015-40 | 0       | 0       | 0       | \n",
       "| 2015-16 | 2015-41 | 0       | 0       | 0       | \n",
       "| 2015-16 | 2015-42 | 0       | 0       | 0       | \n",
       "| 2015-16 | 2015-43 | 0       | 0       | 0       | \n",
       "| 2015-16 | 2015-44 | 2       | 2       | 0       | \n",
       "| 2015-16 | 2015-45 | 0       | 0       | 0       | \n",
       "\n",
       "\n"
      ],
      "text/plain": [
       "  SEASON  WEEK.NUMBER NO..OF.DEATHS PREVIOUS.WEEK.DEATHS CURRENT.WEEK.DEATHS\n",
       "1 2015-16 2015-40     0             0                    0                  \n",
       "2 2015-16 2015-41     0             0                    0                  \n",
       "3 2015-16 2015-42     0             0                    0                  \n",
       "4 2015-16 2015-43     0             0                    0                  \n",
       "5 2015-16 2015-44     2             2                    0                  \n",
       "6 2015-16 2015-45     0             0                    0                  "
      ]
     },
     "metadata": {},
     "output_type": "display_data"
    }
   ],
   "source": [
    "library(\"ggplot2\")\n",
    "library(\"reshape2\")\n",
    "\n",
    "ped_deaths <- read.csv(\"./FluViewPhase2Data/Weekly_pediatric_deaths.csv\", skip = 1)"
   ]
  },
  {
   "cell_type": "code",
   "execution_count": 99,
   "metadata": {},
   "outputs": [],
   "source": [
    "ped_deaths_df <- ped_deaths[, c(\"WEEK.NUMBER\", \"PREVIOUS.WEEK.DEATHS\", \"CURRENT.WEEK.DEATHS\")]"
   ]
  },
  {
   "cell_type": "code",
   "execution_count": 100,
   "metadata": {},
   "outputs": [
    {
     "data": {
      "text/html": [
       "2015-16\n",
       "<details>\n",
       "\t<summary style=display:list-item;cursor:pointer>\n",
       "\t\t<strong>Levels</strong>:\n",
       "\t</summary>\n",
       "\t<ol class=list-inline>\n",
       "\t\t<li>'2015-16'</li>\n",
       "\t\t<li>'2016-17'</li>\n",
       "\t\t<li>'2017-18'</li>\n",
       "\t\t<li>'2018-19'</li>\n",
       "\t</ol>\n",
       "</details>"
      ],
      "text/latex": [
       "2015-16\n",
       "\\emph{Levels}: \\begin{enumerate*}\n",
       "\\item '2015-16'\n",
       "\\item '2016-17'\n",
       "\\item '2017-18'\n",
       "\\item '2018-19'\n",
       "\\end{enumerate*}\n"
      ],
      "text/markdown": [
       "2015-16\n",
       "**Levels**: 1. '2015-16'\n",
       "2. '2016-17'\n",
       "3. '2017-18'\n",
       "4. '2018-19'\n",
       "\n",
       "\n"
      ],
      "text/plain": [
       "[1] 2015-16\n",
       "Levels: 2015-16 2016-17 2017-18 2018-19"
      ]
     },
     "metadata": {},
     "output_type": "display_data"
    }
   ],
   "source": [
    "week_factor = gsub(\"-\", '', ped_deaths_df$WEEK.NUMBER )\n",
    "\n",
    "ped_deaths_df <- melt(ped_deaths_df, id=\"WEEK.NUMBER\")\n",
    "\n",
    "deaths_by_season <- aggregate(PREVIOUS.WEEK.DEATHS+CURRENT.WEEK.DEATHS ~ SEASON, ped_deaths, sum)[, \"PREVIOUS.WEEK.DEATHS + CURRENT.WEEK.DEATHS\"]\n",
    "seasons <- unique(ped_deaths$SEASON)"
   ]
  },
  {
   "cell_type": "code",
   "execution_count": 101,
   "metadata": {},
   "outputs": [],
   "source": [
    "ped_plot <- ggplot(\n",
    "  data = ped_deaths_df, \n",
    "  aes(WEEK.NUMBER, value, fill =  variable)) +\n",
    "  geom_bar(stat = \"identity\", width = 1, colour=\"black\") +\n",
    "  ylab(\"Number of deaths\") +\n",
    "  xlab(\"Week of death\") +\n",
    "  ggtitle(\"Number of Influenza-related deaths by Week of Death: 2015-16 to present\") +\n",
    "  theme(axis.text.x = element_text(angle = 90, hjust = 1)) +\n",
    "  scale_fill_discrete(labels = c(\"Deaths Reported Previous Week\", \"Deaths Reported Current Week\")) +\n",
    "  ylim(0, 30) +\n",
    "  theme(legend.title=element_blank(), axis.text.x=element_text(color=c(\"black\",rep(\"transparent\", 10))))\n",
    "\n",
    "x <- 30\n",
    "y <- 25\n",
    "i <- 0\n",
    "for (season in deaths_by_season) {\n",
    "  label <- as.character(seasons[i+1]) \n",
    "  ped_plot <- ped_plot + annotate(\"text\", label = label , x = x+45*i, y = y, color = \"black\") +\n",
    "    annotate(\"text\", label = paste0(\"Number of Deaths = \", season), x = x+45*i, y = 22, color = \"black\")\n",
    "  i <- i + 1\n",
    "}"
   ]
  },
  {
   "cell_type": "code",
   "execution_count": 104,
   "metadata": {},
   "outputs": [
    {
     "data": {},
     "metadata": {},
     "output_type": "display_data"
    },
    {
     "data": {
      "image/png": "[encoded data removed]",
      "text/plain": [
       "plot without title"
      ]
     },
     "metadata": {},
     "output_type": "display_data"
    }
   ],
   "source": [
    "ped_plot"
   ]
  }
 ],
 "metadata": {
  "kernelspec": {
   "display_name": "R",
   "language": "R",
   "name": "ir"
  },
  "language_info": {
   "codemirror_mode": "r",
   "file_extension": ".r",
   "mimetype": "text/x-r-source",
   "name": "R",
   "pygments_lexer": "r",
   "version": "3.5.1"
  }
 },
 "nbformat": 4,
 "nbformat_minor": 2
}
