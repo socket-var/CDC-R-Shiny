{
 "cells": [
  {
   "cell_type": "code",
   "execution_count": 1,
   "metadata": {},
   "outputs": [],
   "source": [
    "library(shiny)\n",
    "palette(c(\"#E41A1C\", \"#377EB8\", \"#4DAF4A\", \"#984EA3\",\n",
    "  \"#FF7F00\", \"#FFFF33\", \"#A65628\", \"#F781BF\", \"#999999\"))"
   ]
  },
  {
   "cell_type": "code",
   "execution_count": null,
   "metadata": {},
   "outputs": [
    {
     "name": "stderr",
     "output_type": "stream",
     "text": [
      "\n",
      "Listening on http://127.0.0.1:3177\n"
     ]
    }
   ],
   "source": [
    "ui <- fluidPage(\n",
    "  headerPanel('CDC vs Twitter'),\n",
    "  sidebarPanel(\n",
    "    actionButton(\"cdcOnly\", \"CDC Heatmap\"),\n",
    "    actionButton(\"cdcVsTwitter\", \"CDC vs Twitter Heatmap\"),\n",
    "    actionButton(\"cdcVsTwitterKeywords\", \"CDC vs twitter keyword comparison\")\n",
    "  ),\n",
    "  mainPanel(\n",
    "    plotOutput('plot1')\n",
    "  )\n",
    ")\n",
    "\n",
    "server <- function(input, output) {\n",
    "  \n",
    "  observeEvent(input$cdcOnly, {\n",
    "    output$plot1 <- renderImage({\n",
    "      filename <- normalizePath(file.path('./images',\n",
    "                                          'ili_heatmap.png'))\n",
    "      \n",
    "      # Return a list containing the filename and alt text\n",
    "      list(src = filename,\n",
    "           alt = paste(\"ILI Heatmap\"))\n",
    "      \n",
    "    }, deleteFile = FALSE)\n",
    "  })\n",
    "  \n",
    "  observeEvent(input$cdcVsTwitter, {\n",
    "    output$plot1 <- renderImage({\n",
    "      filename <- normalizePath(file.path('./images',\n",
    "                                          'image1.png'))\n",
    "      \n",
    "      # Return a list containing the filename and alt text\n",
    "      list(src = filename,\n",
    "           alt = paste(\"ILI Heatmap\"))\n",
    "      \n",
    "    }, deleteFile = FALSE)\n",
    "  })\n",
    "  \n",
    "  observeEvent(input$cdcVsTwitterKeywords, {\n",
    "    output$plot1 <- renderImage({\n",
    "      filename <- normalizePath(file.path('./images',\n",
    "                                          'image2.png'))\n",
    "      \n",
    "      # Return a list containing the filename and alt text\n",
    "      list(src = filename,\n",
    "           alt = paste(\"ILI Heatmap\"))\n",
    "      \n",
    "    }, deleteFile = FALSE)\n",
    "  })\n",
    "    \n",
    "}\n",
    "\n",
    "shinyApp(ui = ui, server = server)"
   ]
  },
  {
   "cell_type": "code",
   "execution_count": null,
   "metadata": {},
   "outputs": [],
   "source": []
  }
 ],
 "metadata": {
  "kernelspec": {
   "display_name": "R",
   "language": "R",
   "name": "ir"
  },
  "language_info": {
   "codemirror_mode": "r",
   "file_extension": ".r",
   "mimetype": "text/x-r-source",
   "name": "R",
   "pygments_lexer": "r",
   "version": "3.5.1"
  }
 },
 "nbformat": 4,
 "nbformat_minor": 2
}
