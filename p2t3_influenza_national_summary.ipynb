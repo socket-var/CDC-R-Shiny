{
 "cells": [
  {
   "cell_type": "code",
   "execution_count": 30,
   "metadata": {},
   "outputs": [],
   "source": [
    "# TODO: change background color of plot\n",
    "library(ggplot2)\n",
    "# for melt method\n",
    "library(reshape2)"
   ]
  },
  {
   "cell_type": "code",
   "execution_count": 31,
   "metadata": {},
   "outputs": [],
   "source": [
    "# read data from csv, skip first line containing comments\n",
    "clData <- read.csv(\"./FluViewPhase2Data/WHO_NREVSS_Clinical_Labs.csv\", skip=1)\n",
    "\n",
    "# combine year and week and use them as xticks when plotting\n",
    "paddedWeek <- formatC(clData$WEEK, width = 2, format = \"d\", flag = \"0\")\n",
    "xticks <- paste(as.character(clData$YEAR), as.character(paddedWeek), sep=\"\")\n",
    "\n",
    "\n",
    "\n",
    "columns <- c(\"TOTAL.A\", \"TOTAL.B\")\n",
    "\n",
    "customLabels <- c(\"A\", \"B\")\n"
   ]
  },
  {
   "cell_type": "code",
   "execution_count": 32,
   "metadata": {},
   "outputs": [],
   "source": [
    "# get the data that we care and melt it\n",
    "positiveData <- clData[, columns]\n",
    "positiveData$category <- xticks\n",
    "mPositiveData <- melt(positiveData, id.vars = \"category\")"
   ]
  },
  {
   "cell_type": "code",
   "execution_count": 33,
   "metadata": {},
   "outputs": [],
   "source": [
    "new_df <- clData[, c(\"PERCENT.POSITIVE\", \"PERCENT.A\", \"PERCENT.B\")]\n",
    "new_df$category <- xticks\n",
    "new_df$variable <- rep(\"null\", nrow(new_df))"
   ]
  },
  {
   "cell_type": "code",
   "execution_count": 34,
   "metadata": {},
   "outputs": [
    {
     "name": "stderr",
     "output_type": "stream",
     "text": [
      "Scale for 'y' is already present. Adding another scale for 'y', which will\n",
      "replace the existing scale.\n"
     ]
    },
    {
     "data": {},
     "metadata": {},
     "output_type": "display_data"
    },
    {
     "data": {
      "image/png": "[encoded data removed]",
      "text/plain": [
       "plot without title"
      ]
     },
     "metadata": {},
     "output_type": "display_data"
    }
   ],
   "source": [
    "ggplot(\n",
    "  data = mPositiveData,\n",
    "  aes(\n",
    "    category,\n",
    "    value,\n",
    "    fill = factor(variable, levels = columns, labels=customLabels)\n",
    "  )) +\n",
    "    geom_bar(stat = \"identity\") +\n",
    "    ggtitle(\"Title\") +\n",
    "    ylim(0, 14000) +\n",
    "  theme(legend.title=element_blank()) +\n",
    "  theme(axis.text.x = element_text(angle = 45, hjust = 1)) +\n",
    "  ggtitle(\"Influenza Positive Tests Reported to CDC by U.S. Clinical Laboratories, National Summary, 2018 - 2019 Season\") +\n",
    "  xlab(\"Week\") +\n",
    "  ylab(\"Number of Positive Specimens\") +\n",
    "  scale_y_continuous(sec.axis = sec_axis(~./400, name = \"Percent Positive\")) +\n",
    "  geom_line(aes(y = PERCENT.POSITIVE*400, group=1, colour = \"Percent Positive\"), new_df, size=1.2) +\n",
    "geom_line(aes(y = PERCENT.A*400, group=1, colour = \"% Positive Flu A\"), new_df, linetype=\"dashed\", size=1.2) +\n",
    "geom_line(aes(y = PERCENT.B*400, group=1, colour = \"% Positive Flu B\"), new_df, linetype=\"dashed\", size=1.2) +\n",
    "  scale_color_manual(values = c(\"yellow\", \"green\", \"black\"), labels=c(\"Percent Positive\", \"% Positive Flu A\", \"% Positive Flu B\")) +\n",
    "scale_linetype_manual(values = c(2, 2, 1))"
   ]
  },
  {
   "cell_type": "code",
   "execution_count": null,
   "metadata": {},
   "outputs": [],
   "source": []
  }
 ],
 "metadata": {
  "kernelspec": {
   "display_name": "R",
   "language": "R",
   "name": "ir"
  },
  "language_info": {
   "codemirror_mode": "r",
   "file_extension": ".r",
   "mimetype": "text/x-r-source",
   "name": "R",
   "pygments_lexer": "r",
   "version": "3.5.1"
  }
 },
 "nbformat": 4,
 "nbformat_minor": 2
}
