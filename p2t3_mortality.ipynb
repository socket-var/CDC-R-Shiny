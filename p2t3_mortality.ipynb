{
 "cells": [
  {
   "cell_type": "code",
   "execution_count": 46,
   "metadata": {},
   "outputs": [],
   "source": [
    "library(\"ggplot2\")\n",
    "library(\"reshape2\")\n",
    "\n",
    "mortality <- read.csv(\"./FluViewPhase2Data/NCHSData08.csv\")"
   ]
  },
  {
   "cell_type": "code",
   "execution_count": 47,
   "metadata": {},
   "outputs": [
    {
     "data": {
      "text/html": [
       "<table>\n",
       "<thead><tr><th scope=col>Year</th><th scope=col>Week</th><th scope=col>Percent.of.Deaths.Due.to.Pneumonia.and.Influenza</th><th scope=col>Expected</th><th scope=col>Threshold</th><th scope=col>All.Deaths</th><th scope=col>Pneumonia.Deaths</th><th scope=col>Influenza.Deaths</th></tr></thead>\n",
       "<tbody>\n",
       "\t<tr><td>2009    </td><td>40      </td><td>7.827717</td><td>7.23411 </td><td>7.50529 </td><td>46412   </td><td>3484    </td><td>149     </td></tr>\n",
       "\t<tr><td>2009    </td><td>41      </td><td>8.346070</td><td>7.32283 </td><td>7.59398 </td><td>46453   </td><td>3703    </td><td>174     </td></tr>\n",
       "\t<tr><td>2009    </td><td>42      </td><td>8.598344</td><td>7.41794 </td><td>7.68906 </td><td>47451   </td><td>3841    </td><td>239     </td></tr>\n",
       "\t<tr><td>2009    </td><td>43      </td><td>8.737509</td><td>7.51805 </td><td>7.78913 </td><td>46432   </td><td>3762    </td><td>295     </td></tr>\n",
       "\t<tr><td>2009    </td><td>44      </td><td>8.773115</td><td>7.62168 </td><td>7.89273 </td><td>47372   </td><td>3858    </td><td>298     </td></tr>\n",
       "\t<tr><td>2009    </td><td>45      </td><td>8.864184</td><td>7.72731 </td><td>7.99833 </td><td>47314   </td><td>3929    </td><td>265     </td></tr>\n",
       "</tbody>\n",
       "</table>\n"
      ],
      "text/latex": [
       "\\begin{tabular}{r|llllllll}\n",
       " Year & Week & Percent.of.Deaths.Due.to.Pneumonia.and.Influenza & Expected & Threshold & All.Deaths & Pneumonia.Deaths & Influenza.Deaths\\\\\n",
       "\\hline\n",
       "\t 2009     & 40       & 7.827717 & 7.23411  & 7.50529  & 46412    & 3484     & 149     \\\\\n",
       "\t 2009     & 41       & 8.346070 & 7.32283  & 7.59398  & 46453    & 3703     & 174     \\\\\n",
       "\t 2009     & 42       & 8.598344 & 7.41794  & 7.68906  & 47451    & 3841     & 239     \\\\\n",
       "\t 2009     & 43       & 8.737509 & 7.51805  & 7.78913  & 46432    & 3762     & 295     \\\\\n",
       "\t 2009     & 44       & 8.773115 & 7.62168  & 7.89273  & 47372    & 3858     & 298     \\\\\n",
       "\t 2009     & 45       & 8.864184 & 7.72731  & 7.99833  & 47314    & 3929     & 265     \\\\\n",
       "\\end{tabular}\n"
      ],
      "text/markdown": [
       "\n",
       "Year | Week | Percent.of.Deaths.Due.to.Pneumonia.and.Influenza | Expected | Threshold | All.Deaths | Pneumonia.Deaths | Influenza.Deaths | \n",
       "|---|---|---|---|---|---|\n",
       "| 2009     | 40       | 7.827717 | 7.23411  | 7.50529  | 46412    | 3484     | 149      | \n",
       "| 2009     | 41       | 8.346070 | 7.32283  | 7.59398  | 46453    | 3703     | 174      | \n",
       "| 2009     | 42       | 8.598344 | 7.41794  | 7.68906  | 47451    | 3841     | 239      | \n",
       "| 2009     | 43       | 8.737509 | 7.51805  | 7.78913  | 46432    | 3762     | 295      | \n",
       "| 2009     | 44       | 8.773115 | 7.62168  | 7.89273  | 47372    | 3858     | 298      | \n",
       "| 2009     | 45       | 8.864184 | 7.72731  | 7.99833  | 47314    | 3929     | 265      | \n",
       "\n",
       "\n"
      ],
      "text/plain": [
       "  Year Week Percent.of.Deaths.Due.to.Pneumonia.and.Influenza Expected Threshold\n",
       "1 2009 40   7.827717                                         7.23411  7.50529  \n",
       "2 2009 41   8.346070                                         7.32283  7.59398  \n",
       "3 2009 42   8.598344                                         7.41794  7.68906  \n",
       "4 2009 43   8.737509                                         7.51805  7.78913  \n",
       "5 2009 44   8.773115                                         7.62168  7.89273  \n",
       "6 2009 45   8.864184                                         7.72731  7.99833  \n",
       "  All.Deaths Pneumonia.Deaths Influenza.Deaths\n",
       "1 46412      3484             149             \n",
       "2 46453      3703             174             \n",
       "3 47451      3841             239             \n",
       "4 46432      3762             295             \n",
       "5 47372      3858             298             \n",
       "6 47314      3929             265             "
      ]
     },
     "metadata": {},
     "output_type": "display_data"
    }
   ],
   "source": [
    "head(mortality)"
   ]
  },
  {
   "cell_type": "code",
   "execution_count": 48,
   "metadata": {},
   "outputs": [],
   "source": [
    "columns <- c(\"Percent.of.Deaths.Due.to.Pneumonia.and.Influenza\", \"Expected\", \"Threshold\")\n",
    "# \"Year\", \"Week\",\n",
    "paddedWeek <- formatC(mortality$Week, width = 2, format = \"d\", flag = \"0\")\n",
    "time <- paste(as.character(mortality$Year), as.character(paddedWeek), sep=\"\")\n",
    "mortality <- mortality[, columns] \n",
    "mortality$Time <- time"
   ]
  },
  {
   "cell_type": "code",
   "execution_count": 71,
   "metadata": {},
   "outputs": [
    {
     "data": {
      "text/html": [
       "<table>\n",
       "<thead><tr><th scope=col>Time</th><th scope=col>variable</th><th scope=col>value</th></tr></thead>\n",
       "<tbody>\n",
       "\t<tr><td>200940                                          </td><td>Percent.of.Deaths.Due.to.Pneumonia.and.Influenza</td><td>7.827717                                        </td></tr>\n",
       "\t<tr><td>200941                                          </td><td>Percent.of.Deaths.Due.to.Pneumonia.and.Influenza</td><td>8.346070                                        </td></tr>\n",
       "\t<tr><td>200942                                          </td><td>Percent.of.Deaths.Due.to.Pneumonia.and.Influenza</td><td>8.598344                                        </td></tr>\n",
       "\t<tr><td>200943                                          </td><td>Percent.of.Deaths.Due.to.Pneumonia.and.Influenza</td><td>8.737509                                        </td></tr>\n",
       "\t<tr><td>200944                                          </td><td>Percent.of.Deaths.Due.to.Pneumonia.and.Influenza</td><td>8.773115                                        </td></tr>\n",
       "\t<tr><td>200945                                          </td><td>Percent.of.Deaths.Due.to.Pneumonia.and.Influenza</td><td>8.864184                                        </td></tr>\n",
       "</tbody>\n",
       "</table>\n"
      ],
      "text/latex": [
       "\\begin{tabular}{r|lll}\n",
       " Time & variable & value\\\\\n",
       "\\hline\n",
       "\t 200940                                           & Percent.of.Deaths.Due.to.Pneumonia.and.Influenza & 7.827717                                        \\\\\n",
       "\t 200941                                           & Percent.of.Deaths.Due.to.Pneumonia.and.Influenza & 8.346070                                        \\\\\n",
       "\t 200942                                           & Percent.of.Deaths.Due.to.Pneumonia.and.Influenza & 8.598344                                        \\\\\n",
       "\t 200943                                           & Percent.of.Deaths.Due.to.Pneumonia.and.Influenza & 8.737509                                        \\\\\n",
       "\t 200944                                           & Percent.of.Deaths.Due.to.Pneumonia.and.Influenza & 8.773115                                        \\\\\n",
       "\t 200945                                           & Percent.of.Deaths.Due.to.Pneumonia.and.Influenza & 8.864184                                        \\\\\n",
       "\\end{tabular}\n"
      ],
      "text/markdown": [
       "\n",
       "Time | variable | value | \n",
       "|---|---|---|---|---|---|\n",
       "| 200940                                           | Percent.of.Deaths.Due.to.Pneumonia.and.Influenza | 7.827717                                         | \n",
       "| 200941                                           | Percent.of.Deaths.Due.to.Pneumonia.and.Influenza | 8.346070                                         | \n",
       "| 200942                                           | Percent.of.Deaths.Due.to.Pneumonia.and.Influenza | 8.598344                                         | \n",
       "| 200943                                           | Percent.of.Deaths.Due.to.Pneumonia.and.Influenza | 8.737509                                         | \n",
       "| 200944                                           | Percent.of.Deaths.Due.to.Pneumonia.and.Influenza | 8.773115                                         | \n",
       "| 200945                                           | Percent.of.Deaths.Due.to.Pneumonia.and.Influenza | 8.864184                                         | \n",
       "\n",
       "\n"
      ],
      "text/plain": [
       "  Time   variable                                         value   \n",
       "1 200940 Percent.of.Deaths.Due.to.Pneumonia.and.Influenza 7.827717\n",
       "2 200941 Percent.of.Deaths.Due.to.Pneumonia.and.Influenza 8.346070\n",
       "3 200942 Percent.of.Deaths.Due.to.Pneumonia.and.Influenza 8.598344\n",
       "4 200943 Percent.of.Deaths.Due.to.Pneumonia.and.Influenza 8.737509\n",
       "5 200944 Percent.of.Deaths.Due.to.Pneumonia.and.Influenza 8.773115\n",
       "6 200945 Percent.of.Deaths.Due.to.Pneumonia.and.Influenza 8.864184"
      ]
     },
     "metadata": {},
     "output_type": "display_data"
    }
   ],
   "source": [
    "new_mortality <- melt(mortality, id.vars=\"Time\")\n",
    "\n",
    "head(new_mortality)\n"
   ]
  },
  {
   "cell_type": "code",
   "execution_count": 73,
   "metadata": {},
   "outputs": [
    {
     "name": "stderr",
     "output_type": "stream",
     "text": [
      "Picking joint bandwidth of NaN\n"
     ]
    },
    {
     "data": {},
     "metadata": {},
     "output_type": "display_data"
    },
    {
     "data": {
      "image/png": "[encoded data removed]",
      "text/plain": [
       "plot without title"
      ]
     },
     "metadata": {},
     "output_type": "display_data"
    }
   ],
   "source": [
    "library(ggridges)\n",
    "ggplot(new_mortality, aes(x=Time, y=value, color=variable)) +\n",
    "geom_density_ridges()\n",
    "\n",
    "# ggplot(df, aes(x=weight, color=sex)) +\n",
    "#   geom_density()"
   ]
  }
 ],
 "metadata": {
  "kernelspec": {
   "display_name": "R",
   "language": "R",
   "name": "ir"
  },
  "language_info": {
   "codemirror_mode": "r",
   "file_extension": ".r",
   "mimetype": "text/x-r-source",
   "name": "R",
   "pygments_lexer": "r",
   "version": "3.5.1"
  }
 },
 "nbformat": 4,
 "nbformat_minor": 2
}
