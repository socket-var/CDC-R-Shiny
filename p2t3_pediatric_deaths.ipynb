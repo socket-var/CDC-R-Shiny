{
 "cells": [
  {
   "cell_type": "code",
   "execution_count": 1,
   "metadata": {},
   "outputs": [
    {
     "name": "stderr",
     "output_type": "stream",
     "text": [
      "Warning message:\n",
      "\"package 'ggplot2' was built under R version 3.5.2\"Warning message:\n",
      "\"package 'reshape2' was built under R version 3.5.2\""
     ]
    }
   ],
   "source": [
    "library(\"ggplot2\")\n",
    "library(\"reshape2\")\n",
    "\n",
    "ped_deaths <- read.csv(\"./FluViewPhase2Data/Weekly_pediatric_deaths.csv\", skip = 1)"
   ]
  },
  {
   "cell_type": "code",
   "execution_count": 2,
   "metadata": {},
   "outputs": [],
   "source": [
    "ped_deaths_df <- ped_deaths[, c(\"WEEK.NUMBER\", \"PREVIOUS.WEEK.DEATHS\", \"CURRENT.WEEK.DEATHS\")]"
   ]
  },
  {
   "cell_type": "code",
   "execution_count": 3,
   "metadata": {},
   "outputs": [],
   "source": [
    "week_factor = gsub(\"-\", '', ped_deaths_df$WEEK.NUMBER )\n",
    "\n",
    "ped_deaths_df <- melt(ped_deaths_df, id=\"WEEK.NUMBER\")\n",
    "\n",
    "deaths_by_season <- aggregate(PREVIOUS.WEEK.DEATHS+CURRENT.WEEK.DEATHS ~ SEASON, ped_deaths, sum)[, \"PREVIOUS.WEEK.DEATHS + CURRENT.WEEK.DEATHS\"]\n",
    "seasons <- unique(ped_deaths$SEASON)"
   ]
  },
  {
   "cell_type": "code",
   "execution_count": 4,
   "metadata": {},
   "outputs": [],
   "source": [
    "ped_plot <- ggplot(\n",
    "  data = ped_deaths_df, \n",
    "  aes(WEEK.NUMBER, value, fill =  variable)) +\n",
    "  geom_bar(stat = \"identity\", width = 1, colour=\"black\") +\n",
    "  ylab(\"Number of deaths\") +\n",
    "  xlab(\"Week of death\") +\n",
    "  ggtitle(\"Number of Influenza-related deaths by Week of Death: 2015-16 to present\") +\n",
    "  theme(axis.text.x = element_text(angle = 90, hjust = 1)) +\n",
    "  scale_fill_discrete(labels = c(\"Deaths Reported Previous Week\", \"Deaths Reported Current Week\")) +\n",
    "  ylim(0, 30) +\n",
    "  theme(legend.title=element_blank(), axis.text.x=element_text(color=c(\"black\",rep(\"transparent\", 10))))\n",
    "\n",
    "x <- 30\n",
    "y <- 25\n",
    "i <- 0\n",
    "for (season in deaths_by_season) {\n",
    "  label <- as.character(seasons[i+1]) \n",
    "  ped_plot <- ped_plot + annotate(\"text\", label = label , x = x+45*i, y = y, color = \"black\") +\n",
    "    annotate(\"text\", label = paste0(\"Number of Deaths = \", season), x = x+45*i, y = 22, color = \"black\")\n",
    "  i <- i + 1\n",
    "}"
   ]
  },
  {
   "cell_type": "code",
   "execution_count": 5,
   "metadata": {},
   "outputs": [
    {
     "data": {},
     "metadata": {},
     "output_type": "display_data"
    },
    {
     "data": {
      "image/png": "[encoded data removed]",
      "text/plain": [
       "plot without title"
      ]
     },
     "metadata": {},
     "output_type": "display_data"
    }
   ],
   "source": [
    "ped_plot"
   ]
  },
  {
   "cell_type": "code",
   "execution_count": null,
   "metadata": {},
   "outputs": [],
   "source": []
  }
 ],
 "metadata": {
  "kernelspec": {
   "display_name": "R",
   "language": "R",
   "name": "ir"
  },
  "language_info": {
   "codemirror_mode": "r",
   "file_extension": ".r",
   "mimetype": "text/x-r-source",
   "name": "R",
   "pygments_lexer": "r",
   "version": "3.5.1"
  }
 },
 "nbformat": 4,
 "nbformat_minor": 2
}
