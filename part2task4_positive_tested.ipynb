{
 "cells": [
  {
   "cell_type": "markdown",
   "metadata": {},
   "source": [
    "### Influenza Positive Tests Reported to CDC by U.S. Public Health Laboratories, National Summary, 2018 - 2019 Season"
   ]
  },
  {
   "cell_type": "code",
   "execution_count": 7,
   "metadata": {},
   "outputs": [],
   "source": [
    "# for plotting\n",
    "library(ggplot2)\n",
    "\n",
    "# for melt method\n",
    "library(reshape2)\n"
   ]
  },
  {
   "cell_type": "markdown",
   "metadata": {},
   "source": [
    "### Read data from public health labs csv and customize xticks to display"
   ]
  },
  {
   "cell_type": "code",
   "execution_count": 8,
   "metadata": {},
   "outputs": [],
   "source": [
    "# read data from csv, skip first line containing comments\n",
    "clData <- read.csv(\"./FluViewPhase2Data/WHO_NREVSS_Public_Health_Labs.csv\", skip=1)\n",
    "\n",
    "\n",
    "paddedWeek <- formatC(clData$WEEK, width = 2, format = \"d\", flag = \"0\")\n",
    "\n",
    "# combine year and week and use them as xticks when plotting\n",
    "xticks <- paste(as.character(clData$YEAR), as.character(paddedWeek), sep=\"\")\n",
    "\n"
   ]
  },
  {
   "cell_type": "markdown",
   "metadata": {},
   "source": [
    "### Select columns for plotting and melt the columns of dataframe into condition, variable and value columns for plotting bars"
   ]
  },
  {
   "cell_type": "code",
   "execution_count": 9,
   "metadata": {},
   "outputs": [],
   "source": [
    "columns <- c(\"A..Subtyping.not.Performed.\", \"A..2009.H1N1.\", \"A..H3.\", \"H3N2v\", \"B\", \"BVic\", \"BYam\")\n",
    "\n",
    "customLabels <- c(\"A (subtyping not performed)\", \"A (H1N1)pdm09\", \"A (H3N2)\", \"H3N2v\", \"B (lineage not performed)\", \"B (Victoria Lineage)\", \"B (Yamagata Lineage)\")\n",
    "\n",
    "# get the data that we care and melt it\n",
    "positiveData <- clData[, columns]\n",
    "positiveData$category <- xticks\n",
    "mPositiveData <- melt(positiveData, id.vars = \"category\")\n",
    "\n"
   ]
  },
  {
   "cell_type": "markdown",
   "metadata": {},
   "source": [
    "### Finally, plot the data using variable column for filling bars and value column for determining the height of the bar"
   ]
  },
  {
   "cell_type": "code",
   "execution_count": 10,
   "metadata": {},
   "outputs": [
    {
     "data": {},
     "metadata": {},
     "output_type": "display_data"
    },
    {
     "data": {
      "image/png": "[encoded data removed]",
      "text/plain": [
       "plot without title"
      ]
     },
     "metadata": {},
     "output_type": "display_data"
    }
   ],
   "source": [
    "ggplot(\n",
    "  data = mPositiveData,\n",
    "  aes(\n",
    "    category,\n",
    "    value,\n",
    "    fill = factor(variable, levels = columns, labels=customLabels),\n",
    "  )) +\n",
    "    geom_bar(stat = \"identity\") +\n",
    "    ggtitle(\"Title\") +\n",
    "    ylim(0, 1800) +\n",
    "  theme(legend.title=element_blank()) +\n",
    "  theme(axis.text.x = element_text(angle = 45, hjust = 1)) +\n",
    "  ggtitle(\"Influenza Positive Tests Reported to CDC by\\n U.S. Public Health Laboratories,\\n National Summary, 2018 - 2019 Season\") +\n",
    "  xlab(\"Week\") +\n",
    "  ylab(\"Number of Positive Specimens\") +\n",
    "  theme(legend.title=element_blank())"
   ]
  }
 ],
 "metadata": {
  "kernelspec": {
   "display_name": "R",
   "language": "R",
   "name": "ir"
  },
  "language_info": {
   "codemirror_mode": "r",
   "file_extension": ".r",
   "mimetype": "text/x-r-source",
   "name": "R",
   "pygments_lexer": "r",
   "version": "3.5.1"
  }
 },
 "nbformat": 4,
 "nbformat_minor": 2
}
