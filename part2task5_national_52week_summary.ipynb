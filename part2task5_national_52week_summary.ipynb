{
 "cells": [
  {
   "cell_type": "markdown",
   "metadata": {},
   "source": [
    "### 52 Week Summary for Influenza Positive Tests Reported to CDC by U.S. Clinical Laboratories for 2018 - 2019 Season"
   ]
  },
  {
   "cell_type": "code",
   "execution_count": 6,
   "metadata": {},
   "outputs": [],
   "source": [
    "# for plotting\n",
    "library(ggplot2)\n",
    "# for melt method\n",
    "library(reshape2)"
   ]
  },
  {
   "cell_type": "markdown",
   "metadata": {},
   "source": [
    "### Read the last 52 weeks of data from input csv, define columns to select and customize xticks to display"
   ]
  },
  {
   "cell_type": "code",
   "execution_count": 7,
   "metadata": {},
   "outputs": [],
   "source": [
    "\n",
    "# read data from csv, skip first line containing comments\n",
    "clData <- read.csv(\"./FluViewPhase2Data/52WeekFluData/WHO_NREVSS_Clinical_Labs.csv\", skip=1)\n",
    "clData <- tail(clData, 52) \n",
    "paddedWeek <- formatC(clData$WEEK, width = 2, format = \"d\", flag = \"0\")\n",
    "# combine year and week and use them as xticks when plotting\n",
    "xticks <- paste(as.character(clData$YEAR), as.character(paddedWeek), sep=\"\")\n",
    "\n",
    "columns <- c(\"TOTAL.A\", \"TOTAL.B\")\n",
    "\n",
    "customLabels <- c(\"A\", \"B\")\n"
   ]
  },
  {
   "cell_type": "markdown",
   "metadata": {},
   "source": [
    "### To plot the bars melt the columns of data into variable and value columns using the melt() function\n",
    "#### Also define another dataframe for plotting lines correponding to the percent statistics"
   ]
  },
  {
   "cell_type": "code",
   "execution_count": 8,
   "metadata": {},
   "outputs": [],
   "source": [
    "# get the data that we care and melt it\n",
    "positiveData <- clData[, columns]\n",
    "positiveData$category <- xticks\n",
    "mPositiveData <- melt(positiveData, id.vars = \"category\")\n",
    "\n",
    "# for plotting lines define a new dataframe containing the columns \"PERCENT.POSITIVE\", \"PERCENT.A\", \"PERCENT.B\"\n",
    "new_df <- clData[, c(\"PERCENT.POSITIVE\", \"PERCENT.A\", \"PERCENT.B\")]\n",
    "new_df$category <- xticks\n",
    "new_df$variable <- rep(\"null\", nrow(new_df))"
   ]
  },
  {
   "cell_type": "markdown",
   "metadata": {},
   "source": [
    "### Finally plot the bars using the variable column of the melted dataframe and also plot the three correponding lines for percentage statistics using the other dataframe\n",
    "\n",
    "Note that the lines are plotted against a secondary y-axis towards the right scaled down to display the lines alongside the stacked bar graph"
   ]
  },
  {
   "cell_type": "code",
   "execution_count": 12,
   "metadata": {},
   "outputs": [
    {
     "name": "stderr",
     "output_type": "stream",
     "text": [
      "Scale for 'y' is already present. Adding another scale for 'y', which will\n",
      "replace the existing scale.\n"
     ]
    },
    {
     "data": {},
     "metadata": {},
     "output_type": "display_data"
    },
    {
     "data": {
      "image/png": "[encoded data removed]",
      "text/plain": [
       "plot without title"
      ]
     },
     "metadata": {},
     "output_type": "display_data"
    }
   ],
   "source": [
    "ggplot(\n",
    "  data = mPositiveData,\n",
    "  aes(\n",
    "    category,\n",
    "    value,\n",
    "    fill = factor(variable, levels = columns, labels=customLabels)\n",
    "  )) +\n",
    "  geom_bar(stat = \"identity\") +\n",
    "  ggtitle(\"Title\") +\n",
    "  ylim(0, 3000) +\n",
    "  theme(legend.title=element_blank(), , legend.position=c(.5, .8), axis.text.x = element_text(angle = 45, hjust = 1)) +\n",
    "  ggtitle(\"Influenza Positive Tests Reported to CDC by U.S. Clinical Laboratories, 52 Week Summary, 2018 - 2019 Season\") +\n",
    "  xlab(\"Week\") +\n",
    "  ylab(\"Number of Positive Specimens\") +\n",
    "  scale_y_continuous(sec.axis = sec_axis(~./300, name = \"Percent Positive\")) +\n",
    "  geom_line(aes(y = PERCENT.POSITIVE*300, group=1, colour = \"Percent Positive\"), data=new_df, size=1.2) +\n",
    "  geom_line(aes(y = PERCENT.A*300, group=1, colour = \"% Positive Flu A\"), data=new_df, linetype=\"dashed\", size=1.2) +\n",
    "  geom_line(aes(y = PERCENT.B*300, group=1, colour = \"% Positive Flu B\"), data=new_df, linetype=\"dashed\", size=1.2) +\n",
    "  scale_color_manual(values = c(\"yellow\", \"green\", \"black\"), labels=c(\"Percent Positive\", \"% Positive Flu A\", \"% Positive Flu B\")) +\n",
    "  scale_linetype_manual(values = c(2, 2, 1)) +\n",
    "  scale_x_discrete(breaks=mPositiveData$category[c(TRUE, FALSE, FALSE, FALSE)])\n"
   ]
  },
  {
   "cell_type": "code",
   "execution_count": null,
   "metadata": {},
   "outputs": [],
   "source": []
  }
 ],
 "metadata": {
  "kernelspec": {
   "display_name": "R",
   "language": "R",
   "name": "ir"
  },
  "language_info": {
   "codemirror_mode": "r",
   "file_extension": ".r",
   "mimetype": "text/x-r-source",
   "name": "R",
   "pygments_lexer": "r",
   "version": "3.5.1"
  }
 },
 "nbformat": 4,
 "nbformat_minor": 2
}
